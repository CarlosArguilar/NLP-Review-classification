{
 "cells": [
  {
   "cell_type": "code",
   "execution_count": 10,
   "metadata": {},
   "outputs": [],
   "source": [
    "# Importing required modules\n",
    "import pandas as pd\n",
    "\n",
    "from preprocessing import PreProcessor\n",
    "from model import Model\n",
    "\n",
    "import keras\n",
    "import tensorflow as tf"
   ]
  },
  {
   "cell_type": "markdown",
   "metadata": {},
   "source": [
    "# Load Data"
   ]
  },
  {
   "cell_type": "markdown",
   "metadata": {},
   "source": [
    "Dataset from: https://www.kaggle.com/code/anthonysusevski/course-classifier-tf/data"
   ]
  },
  {
   "cell_type": "code",
   "execution_count": 2,
   "metadata": {},
   "outputs": [],
   "source": [
    "# Read CSV from downloaded file\n",
    "df = pd.read_csv(\n",
    "    '/home/std/Documents/repositories/analysis_wiki/course_data_clean.csv'\n",
    ")"
   ]
  },
  {
   "cell_type": "markdown",
   "metadata": {},
   "source": [
    "# Preprocessing"
   ]
  },
  {
   "cell_type": "code",
   "execution_count": 3,
   "metadata": {},
   "outputs": [],
   "source": [
    "# Getting only required columns\n",
    "df = df[['reviews', 'course_rating_int']]\n",
    "\n",
    "\n",
    "# Drop rows with null values\n",
    "df = df.dropna()\n",
    "\n",
    "# Transform review to integer (0 or 1)\n",
    "df['course_rating_int'] = df['course_rating_int'].astype(int)"
   ]
  },
  {
   "cell_type": "code",
   "execution_count": 4,
   "metadata": {},
   "outputs": [],
   "source": [
    "# Chosing steps to be applied\n",
    "\n",
    "steps = [\n",
    "    'truncate_text',\n",
    "    'convert_to_lower_case',\n",
    "    #'remove_numbers',\n",
    "    'remove_non_word_characters',\n",
    "    'remove_urls',\n",
    "    #'correct_spell',\n",
    "    'lemmatization',\n",
    "    'remove_stopwords',\n",
    "    ]\n"
   ]
  },
  {
   "cell_type": "code",
   "execution_count": 5,
   "metadata": {},
   "outputs": [
    {
     "name": "stdout",
     "output_type": "stream",
     "text": [
      "Running truncate_text\n",
      "Running convert_to_lower_case\n",
      "Running remove_non_word_characters\n",
      "Running remove_urls\n",
      "Running lemmatization\n"
     ]
    },
    {
     "name": "stderr",
     "output_type": "stream",
     "text": [
      "100%|████████████████████████████████████| 14608/14608 [01:03<00:00, 231.66it/s]\n"
     ]
    },
    {
     "name": "stdout",
     "output_type": "stream",
     "text": [
      "Running remove_stopwords\n"
     ]
    },
    {
     "name": "stderr",
     "output_type": "stream",
     "text": [
      "100%|████████████████████████████████████| 14608/14608 [01:02<00:00, 235.40it/s]\n"
     ]
    }
   ],
   "source": [
    "#Applying preprocessing steps\n",
    "pre_processor = PreProcessor(df['reviews'])\n",
    "df['processed_reviews'] = pre_processor.run_pipeline(steps)"
   ]
  },
  {
   "cell_type": "markdown",
   "metadata": {},
   "source": [
    "# Model Training"
   ]
  },
  {
   "cell_type": "code",
   "execution_count": 7,
   "metadata": {},
   "outputs": [],
   "source": [
    "from parameters import params"
   ]
  },
  {
   "cell_type": "code",
   "execution_count": 11,
   "metadata": {},
   "outputs": [],
   "source": [
    "md = Model(df, x='processed_reviews', y='course_rating_int')"
   ]
  },
  {
   "cell_type": "code",
   "execution_count": 12,
   "metadata": {},
   "outputs": [],
   "source": [
    "md.tokenization()"
   ]
  },
  {
   "cell_type": "code",
   "execution_count": 19,
   "metadata": {},
   "outputs": [],
   "source": [
    "model = keras.Sequential([\n",
    "            tf.keras.layers.Embedding(params['model']['max_tokens'], 40, input_length=md.max_length),\n",
    "            tf.keras.layers.Bidirectional(tf.keras.layers.LSTM(256)),\n",
    "            tf.keras.layers.Dense(400, activation='relu'),\n",
    "            tf.keras.layers.Dropout(0.5),\n",
    "            tf.keras.layers.Dense(200, activation='relu'),\n",
    "            tf.keras.layers.Dropout(0.2),\n",
    "            tf.keras.layers.Dense(2, activation='sigmoid')\n",
    "        ])"
   ]
  },
  {
   "cell_type": "code",
   "execution_count": 20,
   "metadata": {
    "scrolled": false
   },
   "outputs": [
    {
     "name": "stdout",
     "output_type": "stream",
     "text": [
      "Model: \"sequential_1\"\n",
      "_________________________________________________________________\n",
      " Layer (type)                Output Shape              Param #   \n",
      "=================================================================\n",
      " embedding_1 (Embedding)     (None, 17, 40)            20000     \n",
      "                                                                 \n",
      " bidirectional_1 (Bidirectio  (None, 512)              608256    \n",
      " nal)                                                            \n",
      "                                                                 \n",
      " dense_3 (Dense)             (None, 400)               205200    \n",
      "                                                                 \n",
      " dropout_2 (Dropout)         (None, 400)               0         \n",
      "                                                                 \n",
      " dense_4 (Dense)             (None, 200)               80200     \n",
      "                                                                 \n",
      " dropout_3 (Dropout)         (None, 200)               0         \n",
      "                                                                 \n",
      " dense_5 (Dense)             (None, 2)                 402       \n",
      "                                                                 \n",
      "=================================================================\n",
      "Total params: 914,058\n",
      "Trainable params: 914,058\n",
      "Non-trainable params: 0\n",
      "_________________________________________________________________\n",
      "Epoch 1/7\n",
      "366/366 [==============================] - 10s 22ms/step - loss: 0.5686 - accuracy: 0.7065 - val_loss: 0.4887 - val_accuracy: 0.7628\n",
      "Epoch 2/7\n",
      "366/366 [==============================] - 8s 21ms/step - loss: 0.5183 - accuracy: 0.7425 - val_loss: 0.4955 - val_accuracy: 0.7505\n",
      "Epoch 3/7\n",
      "366/366 [==============================] - 8s 21ms/step - loss: 0.5046 - accuracy: 0.7494 - val_loss: 0.4962 - val_accuracy: 0.7621\n",
      "Epoch 4/7\n",
      "366/366 [==============================] - 8s 21ms/step - loss: 0.4939 - accuracy: 0.7580 - val_loss: 0.5140 - val_accuracy: 0.7522\n",
      "Epoch 5/7\n",
      "366/366 [==============================] - 8s 21ms/step - loss: 0.4869 - accuracy: 0.7617 - val_loss: 0.5036 - val_accuracy: 0.7498\n",
      "Epoch 6/7\n",
      "366/366 [==============================] - 8s 21ms/step - loss: 0.4713 - accuracy: 0.7641 - val_loss: 0.5026 - val_accuracy: 0.7543\n",
      "Epoch 7/7\n",
      "366/366 [==============================] - 8s 21ms/step - loss: 0.4618 - accuracy: 0.7725 - val_loss: 0.5117 - val_accuracy: 0.7461\n"
     ]
    },
    {
     "data": {
      "text/plain": [
       "<keras.callbacks.History at 0x7f818831be50>"
      ]
     },
     "execution_count": 20,
     "metadata": {},
     "output_type": "execute_result"
    }
   ],
   "source": [
    "md.train(model, params)"
   ]
  },
  {
   "cell_type": "markdown",
   "metadata": {},
   "source": [
    "# To do"
   ]
  },
  {
   "cell_type": "markdown",
   "metadata": {},
   "source": [
    "- Class to tune hyper parameters\n",
    "    - Making easier to change them and comparing them\n",
    "- Create functionality in the class to load model and continue training it\n",
    "- Make class or functions to use the model and make predictions\n",
    "- Create API to make a service that make the predictions"
   ]
  },
  {
   "cell_type": "code",
   "execution_count": null,
   "metadata": {},
   "outputs": [],
   "source": []
  }
 ],
 "metadata": {
  "kernelspec": {
   "display_name": "Python 3 (ipykernel)",
   "language": "python",
   "name": "python3"
  },
  "language_info": {
   "codemirror_mode": {
    "name": "ipython",
    "version": 3
   },
   "file_extension": ".py",
   "mimetype": "text/x-python",
   "name": "python",
   "nbconvert_exporter": "python",
   "pygments_lexer": "ipython3",
   "version": "3.10.7"
  }
 },
 "nbformat": 4,
 "nbformat_minor": 4
}
